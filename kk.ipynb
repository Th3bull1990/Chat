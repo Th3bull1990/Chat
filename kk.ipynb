{
 "cells": [
  {
   "cell_type": "code",
   "execution_count": 1,
   "metadata": {},
   "outputs": [
    {
     "data": {
      "application/vnd.jupyter.widget-view+json": {
       "model_id": "7cc686ff681144958fdae95b14ccd858",
       "version_major": 2,
       "version_minor": 0
      },
      "text/plain": [
       "Loading checkpoint shards:   0%|          | 0/3 [00:00<?, ?it/s]"
      ]
     },
     "metadata": {},
     "output_type": "display_data"
    }
   ],
   "source": [
    "from transformers import AutoTokenizer, GPTNeoXForCausalLM\n",
    "\n",
    "checkpoint = \"OpenAssistant/oasst-sft-4-pythia-12b-epoch-3.5\"\n",
    "tokenizer = AutoTokenizer.from_pretrained(checkpoint)\n",
    "model = GPTNeoXForCausalLM.from_pretrained(checkpoint)"
   ]
  },
  {
   "cell_type": "code",
   "execution_count": 4,
   "metadata": {},
   "outputs": [
    {
     "name": "stderr",
     "output_type": "stream",
     "text": [
      "Setting `pad_token_id` to `eos_token_id`:0 for open-end generation.\n"
     ]
    },
    {
     "data": {
      "text/plain": [
       "'What is a meme, and what\\'s the history behind this word?A meme is a cultural idea, behavior, or style that spreads from person to person within a population. The word \"meme\" was first used by Richard Dawkins in The Selfish Gene in 1976 to describe units of cultural information that replicate and spread, such as jokes, catchphrases, and rituals. The term quickly became popular and is now used to describe a wide range of cultural phenomena'"
      ]
     },
     "execution_count": 4,
     "metadata": {},
     "output_type": "execute_result"
    }
   ],
   "source": [
    "inputs = tokenizer(\"<|prompter|>What is a meme, and what's the history behind this word?<|endoftext|><|assistant|>\", return_tensors=\"pt\")\n",
    "tokens = model.generate(**inputs, do_sample=True, temperature=0.9, max_length=100)\n",
    "tokenizer.decode(tokens[0], skip_special_tokens=True)"
   ]
  }
 ],
 "metadata": {
  "kernelspec": {
   "display_name": "Python 3",
   "language": "python",
   "name": "python3"
  },
  "language_info": {
   "codemirror_mode": {
    "name": "ipython",
    "version": 3
   },
   "file_extension": ".py",
   "mimetype": "text/x-python",
   "name": "python",
   "nbconvert_exporter": "python",
   "pygments_lexer": "ipython3",
   "version": "3.10.6"
  },
  "orig_nbformat": 4
 },
 "nbformat": 4,
 "nbformat_minor": 2
}
